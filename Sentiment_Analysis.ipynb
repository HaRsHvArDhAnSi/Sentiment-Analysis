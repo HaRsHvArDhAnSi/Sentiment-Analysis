{
  "nbformat": 4,
  "nbformat_minor": 0,
  "metadata": {
    "colab": {
      "provenance": []
    },
    "kernelspec": {
      "name": "python3",
      "display_name": "Python 3"
    },
    "language_info": {
      "name": "python"
    }
  },
  "cells": [
    {
      "cell_type": "code",
      "execution_count": 1,
      "metadata": {
        "colab": {
          "base_uri": "https://localhost:8080/"
        },
        "id": "vFInE3aO26lS",
        "outputId": "dd400406-ab5e-4d7d-e949-1728f54437cb"
      },
      "outputs": [
        {
          "output_type": "stream",
          "name": "stderr",
          "text": [
            "[nltk_data] Downloading package stopwords to /root/nltk_data...\n",
            "[nltk_data]   Package stopwords is already up-to-date!\n"
          ]
        },
        {
          "output_type": "stream",
          "name": "stdout",
          "text": [
            "Accuracy: 0.8911456096214027\n",
            "Confusion Matrix:\n",
            "[[ 5501   756   895]\n",
            " [  116 10711   240]\n",
            " [  610   931 12834]]\n"
          ]
        }
      ],
      "source": [
        "import pandas as pd\n",
        "import numpy as np\n",
        "import nltk\n",
        "from nltk.corpus import stopwords\n",
        "from sklearn.feature_extraction.text import TfidfVectorizer\n",
        "from sklearn.linear_model import LogisticRegression\n",
        "from sklearn.metrics import accuracy_score, confusion_matrix\n",
        "from sklearn.model_selection import train_test_split\n",
        "\n",
        "\n",
        "nltk.download('stopwords')\n",
        "\n",
        "\n",
        "reddit_df = pd.read_csv(\"Reddit_Data.csv\")\n",
        "reddit_df = reddit_df[['clean_comment', 'category']]\n",
        "\n",
        "\n",
        "twitter_df = pd.read_csv(\"Twitter_Data.csv\")\n",
        "twitter_df = twitter_df[['clean_text', 'category']]\n",
        "\n",
        "\n",
        "df = pd.concat([reddit_df, twitter_df], ignore_index=True)\n",
        "\n",
        "\n",
        "df.dropna(subset=['clean_text', 'category'], inplace=True)\n",
        "\n",
        "\n",
        "stop_words = set(stopwords.words('english'))\n",
        "def preprocess_text(text):\n",
        "    text = text.lower()\n",
        "    text = ' '.join(word for word in text.split() if word not in stop_words)\n",
        "    return text\n",
        "\n",
        "df['clean_text'] = df['clean_text'].apply(preprocess_text)\n",
        "\n",
        "\n",
        "X_train, X_test, y_train, y_test = train_test_split(df['clean_text'], df['category'], test_size=0.2, random_state=42)\n",
        "\n",
        "\n",
        "vectorizer = TfidfVectorizer()\n",
        "tfidf_train = vectorizer.fit_transform(X_train)\n",
        "tfidf_test = vectorizer.transform(X_test)\n",
        "\n",
        "\n",
        "classifier = LogisticRegression(max_iter=1000)\n",
        "classifier.fit(tfidf_train, y_train)\n",
        "\n",
        "\n",
        "predictions = classifier.predict(tfidf_test)\n",
        "\n",
        "\n",
        "accuracy = accuracy_score(y_test, predictions)\n",
        "print(\"Accuracy:\", accuracy)\n",
        "\n",
        "\n",
        "cm = confusion_matrix(y_test, predictions)\n",
        "print(\"Confusion Matrix:\")\n",
        "print(cm)\n"
      ]
    }
  ]
}